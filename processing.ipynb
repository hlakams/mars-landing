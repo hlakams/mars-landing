{
 "cells": [
  {
   "attachments": {},
   "cell_type": "markdown",
   "metadata": {},
   "source": [
    "# Processing the Mars Observational Data\n",
    "Current version: 3/23/23"
   ]
  },
  {
   "cell_type": "code",
   "execution_count": null,
   "metadata": {},
   "outputs": [],
   "source": [
    "# CSP values\n",
    "min_elev = 0\n",
    "max_elev = 0\n",
    "min_dci = 0\n",
    "max_dci = 0\n",
    "min_temp = 0\n",
    "max_temp = 0\n",
    "min_albedo = 0\n",
    "max_albedo = 0"
   ]
  },
  {
   "cell_type": "code",
   "execution_count": null,
   "metadata": {},
   "outputs": [],
   "source": []
  },
  {
   "cell_type": "code",
   "execution_count": null,
   "metadata": {},
   "outputs": [],
   "source": [
    "# SAT-style BSP lasso\n",
    "def binary_lasso(min_elev: int=0, max_elev: int, min_dci: int=0, max_dci: int, min_temp: int=0, min_albedo: int=0, max_albedo: int):\n",
    "    "
   ]
  }
 ],
 "metadata": {
  "kernelspec": {
   "display_name": "dat494",
   "language": "python",
   "name": "python3"
  },
  "language_info": {
   "name": "python",
   "version": "3.8.16"
  },
  "orig_nbformat": 4
 },
 "nbformat": 4,
 "nbformat_minor": 2
}
